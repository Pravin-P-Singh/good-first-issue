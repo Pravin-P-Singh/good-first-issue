{
  "nbformat": 4,
  "nbformat_minor": 0,
  "metadata": {
    "colab": {
      "provenance": [],
      "include_colab_link": true
    },
    "kernelspec": {
      "name": "python3",
      "display_name": "Python 3"
    },
    "language_info": {
      "name": "python"
    }
  },
  "cells": [
    {
      "cell_type": "markdown",
      "metadata": {
        "id": "view-in-github",
        "colab_type": "text"
      },
      "source": [
        "<a href=\"https://colab.research.google.com/github/Pravin-P-Singh/good-first-issue/blob/main/Untitled18.ipynb\" target=\"_parent\"><img src=\"https://colab.research.google.com/assets/colab-badge.svg\" alt=\"Open In Colab\"/></a>"
      ]
    },
    {
      "cell_type": "markdown",
      "source": [
        "#Agglomerative"
      ],
      "metadata": {
        "id": "ZN6SQeNVH4RU"
      }
    },
    {
      "cell_type": "code",
      "execution_count": null,
      "metadata": {
        "colab": {
          "base_uri": "https://localhost:8080/",
          "height": 434
        },
        "id": "imIiGCaA3n1T",
        "outputId": "511e79e5-681d-4327-e6cf-ba896dc87b08"
      },
      "outputs": [
        {
          "output_type": "display_data",
          "data": {
            "text/plain": [
              "<Figure size 640x480 with 1 Axes>"
            ],
            "image/png": "[encoded data removed]"
          },
          "metadata": {}
        }
      ],
      "source": [
        "import numpy as np\n",
        "import matplotlib.pyplot as plt\n",
        "from scipy.cluster.hierarchy import dendrogram, linkage\n",
        "\n",
        "data = [18,22,25,27,42,43]\n",
        "linkage_data = linkage(np.array(data).reshape(-1,1), method='single', metric = 'euclidean')\n",
        "dendrogram(linkage_data,labels = [str(i) for i in data])\n",
        "plt.show()"
      ]
    },
    {
      "cell_type": "markdown",
      "source": [
        "#PageRank\n",
        "\n",
        "\n"
      ],
      "metadata": {
        "id": "mB4TejzfH_0Y"
      }
    },
    {
      "cell_type": "code",
      "source": [
        "import numpy as np\n",
        "def PageRank(M, num_iter = 100):\n",
        "  N = M.shape[1]\n",
        "  v = np.ones(N)/N\n",
        "\n",
        "  for i in range(num_iter):\n",
        "    v = M @ v\n",
        "  return v\n",
        "M = np.array([\n",
        "    [0,0,0,0,1],\n",
        "    [0.5,0,0,0,0],\n",
        "    [0.5,1,0,0,0],\n",
        "    [0,0,1,0.5,0],\n",
        "    [0,0,0,0.5,0]\n",
        "    ])\n",
        "v = PageRank(M)\n",
        "print(v)"
      ],
      "metadata": {
        "colab": {
          "base_uri": "https://localhost:8080/"
        },
        "id": "r_D0b6Yh4ZNv",
        "outputId": "bb4147d3-1db3-4614-94aa-c6b41839f888"
      },
      "execution_count": null,
      "outputs": [
        {
          "output_type": "stream",
          "name": "stdout",
          "text": [
            "[0.18181818 0.09090909 0.18181818 0.36363636 0.18181818]\n"
          ]
        }
      ]
    },
    {
      "cell_type": "markdown",
      "source": [
        "#Bayesian Algorithm"
      ],
      "metadata": {
        "id": "Mh9EMwWug0fK"
      }
    },
    {
      "cell_type": "code",
      "source": [
        "Weather = ['Sunny','Sunny','Overcast','Rainy','Rainy','Rainy','Overcast','Sunny','Sunny','Rainy','Sunny','Overcast','Overcast','Rainy']\n",
        "Temp = ['Hot','Hot','Hot','Mild','Cool','Cool','Cool','Mild','Cool','Mild','Mild','Mild','Hot','Mild']\n",
        "Play = ['No','No','Yes','Yes','Yes','No','Yes','No','Yes','Yes','Yes','Yes','Yes','No']\n",
        "\n",
        "#Import labelEncoder\n",
        "from sklearn import preprocessing\n",
        "\n",
        "#creating labelEncoder\n",
        "le = preprocessing.LabelEncoder()\n",
        "\n",
        "#converting string labels into numbers\n",
        "weather_encoded = le.fit_transform(Weather)\n",
        "print(\"Weather:\",weather_encoded)\n",
        "\n",
        "temp_encoded = le.fit_transform(Temp)\n",
        "label=le.fit_transform(Play)\n",
        "\n",
        "print(\"Temp:\",temp_encoded)\n",
        "print(\"Play:\",label)\n",
        "\n",
        "#Combining weather and temp into single list of tuples\n",
        "features = [tup for tup in zip(weather_encoded,temp_encoded)]\n",
        "print(features)\n",
        "\n",
        "#Import Gaussian Naive Bayes model\n",
        "from sklearn.naive_bayes import GaussianNB\n",
        "\n",
        "#create a gaussian classifier\n",
        "model = GaussianNB()\n",
        "\n",
        "#Train the model using training sets\n",
        "model.fit(features,label)\n",
        "\n",
        "#predict Output\n",
        "predicted = model.predict([[0,2]]) #0:Overcast, 2:Mild\n",
        "print(\"Predicted value is : \", predicted)"
      ],
      "metadata": {
        "id": "Z9tEqw1p5QJJ",
        "colab": {
          "base_uri": "https://localhost:8080/"
        },
        "outputId": "e4cb8020-b66e-4641-bf36-e1d59b729800"
      },
      "execution_count": null,
      "outputs": [
        {
          "output_type": "stream",
          "name": "stdout",
          "text": [
            "Weather: [2 2 0 1 1 1 0 2 2 1 2 0 0 1]\n",
            "Temp: [1 1 1 2 0 0 0 2 0 2 2 2 1 2]\n",
            "Play: [0 0 1 1 1 0 1 0 1 1 1 1 1 0]\n",
            "[(2, 1), (2, 1), (0, 1), (1, 2), (1, 0), (1, 0), (0, 0), (2, 2), (2, 0), (1, 2), (2, 2), (0, 2), (0, 1), (1, 2)]\n",
            "Predicted value is :  [1]\n"
          ]
        }
      ]
    },
    {
      "cell_type": "markdown",
      "source": [
        "#Discretization and Visualisation"
      ],
      "metadata": {
        "id": "3cCTsrltY_ky"
      }
    },
    {
      "cell_type": "code",
      "source": [
        "import numpy as np\n",
        "import math\n",
        "from sklearn.datasets import load_iris\n",
        "from sklearn import datasets, linear_model, metrics\n",
        "\n",
        "dataset = load_iris()\n",
        "a = dataset.data\n",
        "b = np.zeros(150)\n",
        "\n",
        "for i in range (150):\n",
        "  b[i]=a[i,1]\n",
        "\n",
        "b=np.sort(b)\n",
        "\n",
        "bin1=np.zeros((30,5))\n",
        "bin2=np.zeros((30,5))\n",
        "bin3=np.zeros((30,5))\n",
        "\n",
        "for i in range (0,150,5):\n",
        "  k=int(i/5)\n",
        "  mean=(b[i] + b[i+1] + b[i+3] +b[i+4])/5\n",
        "  for j in range(5):\n",
        "    bin1[k,j]=mean\n",
        "print(\"\\nBin Mean: \\n\",bin1)\n",
        "\n",
        "for i in range (0,150,5):\n",
        "  k=int(i/5)\n",
        "  for j in range (5):\n",
        "    if (b[i+j]-b[i]) < (b[i+4]-b[i+j]):\n",
        "      bin2[k,j]=b[i]\n",
        "    else:\n",
        "     bin2[k,j]=b[i+4]\n",
        "print(\"\\nBin Boundaries: \\n\",bin2)\n",
        "\n",
        "for i in range (0,150,5):\n",
        "  k=int(i/5)\n",
        "  for j in range (5):\n",
        "    bin3[k,j]=b[i+2]\n",
        "print(\"\\nBin Median: \\n\",bin3)\n",
        "\n",
        "#Visualisation\n",
        "import matplotlib.pyplot as plt\n",
        "girls_attendance=[25,28,18,19,28,29,26,17,27,11]\n",
        "boys_attendance=[16,18,26,26,21,18,26,25,22,26]\n",
        "days_range=[1,2,3,4,5,6,7,8,9,10]\n",
        "fig=plt.figure()\n",
        "ax=fig.add_axes([0,0,1,1])\n",
        "ax.scatter(days_range,girls_attendance,color='r')\n",
        "ax.scatter(days_range,boys_attendance,color='b')\n",
        "ax.set_xlabel('Days Range')\n",
        "ax.set_ylabel('Comparison')\n",
        "ax.set_title('Scatter plot')\n",
        "plt.show()\n"
      ],
      "metadata": {
        "id": "iFhf1QT1iXgH",
        "colab": {
          "base_uri": "https://localhost:8080/",
          "height": 1000
        },
        "outputId": "320f21f6-b277-4d0b-e8bd-5120a052a845"
      },
      "execution_count": null,
      "outputs": [
        {
          "output_type": "stream",
          "name": "stdout",
          "text": [
            "\n",
            "Bin Mean: \n",
            " [[1.74 1.74 1.74 1.74 1.74]\n",
            " [1.88 1.88 1.88 1.88 1.88]\n",
            " [1.98 1.98 1.98 1.98 1.98]\n",
            " [2.02 2.02 2.02 2.02 2.02]\n",
            " [2.1  2.1  2.1  2.1  2.1 ]\n",
            " [2.16 2.16 2.16 2.16 2.16]\n",
            " [2.2  2.2  2.2  2.2  2.2 ]\n",
            " [2.24 2.24 2.24 2.24 2.24]\n",
            " [2.24 2.24 2.24 2.24 2.24]\n",
            " [2.28 2.28 2.28 2.28 2.28]\n",
            " [2.32 2.32 2.32 2.32 2.32]\n",
            " [2.36 2.36 2.36 2.36 2.36]\n",
            " [2.4  2.4  2.4  2.4  2.4 ]\n",
            " [2.4  2.4  2.4  2.4  2.4 ]\n",
            " [2.4  2.4  2.4  2.4  2.4 ]\n",
            " [2.4  2.4  2.4  2.4  2.4 ]\n",
            " [2.44 2.44 2.44 2.44 2.44]\n",
            " [2.48 2.48 2.48 2.48 2.48]\n",
            " [2.5  2.5  2.5  2.5  2.5 ]\n",
            " [2.56 2.56 2.56 2.56 2.56]\n",
            " [2.56 2.56 2.56 2.56 2.56]\n",
            " [2.6  2.6  2.6  2.6  2.6 ]\n",
            " [2.68 2.68 2.68 2.68 2.68]\n",
            " [2.72 2.72 2.72 2.72 2.72]\n",
            " [2.72 2.72 2.72 2.72 2.72]\n",
            " [2.8  2.8  2.8  2.8  2.8 ]\n",
            " [2.86 2.86 2.86 2.86 2.86]\n",
            " [3.   3.   3.   3.   3.  ]\n",
            " [3.06 3.06 3.06 3.06 3.06]\n",
            " [3.3  3.3  3.3  3.3  3.3 ]]\n",
            "\n",
            "Bin Boundaries: \n",
            " [[2.  2.3 2.3 2.3 2.3]\n",
            " [2.3 2.3 2.3 2.4 2.4]\n",
            " [2.4 2.5 2.5 2.5 2.5]\n",
            " [2.5 2.5 2.5 2.5 2.6]\n",
            " [2.6 2.6 2.6 2.6 2.7]\n",
            " [2.7 2.7 2.7 2.7 2.7]\n",
            " [2.7 2.7 2.7 2.8 2.8]\n",
            " [2.8 2.8 2.8 2.8 2.8]\n",
            " [2.8 2.8 2.8 2.8 2.8]\n",
            " [2.8 2.8 2.9 2.9 2.9]\n",
            " [2.9 2.9 2.9 2.9 2.9]\n",
            " [2.9 2.9 3.  3.  3. ]\n",
            " [3.  3.  3.  3.  3. ]\n",
            " [3.  3.  3.  3.  3. ]\n",
            " [3.  3.  3.  3.  3. ]\n",
            " [3.  3.  3.  3.  3. ]\n",
            " [3.  3.  3.  3.1 3.1]\n",
            " [3.1 3.1 3.1 3.1 3.1]\n",
            " [3.1 3.1 3.1 3.1 3.2]\n",
            " [3.2 3.2 3.2 3.2 3.2]\n",
            " [3.2 3.2 3.2 3.2 3.2]\n",
            " [3.2 3.2 3.3 3.3 3.3]\n",
            " [3.3 3.3 3.3 3.4 3.4]\n",
            " [3.4 3.4 3.4 3.4 3.4]\n",
            " [3.4 3.4 3.4 3.4 3.4]\n",
            " [3.5 3.5 3.5 3.5 3.5]\n",
            " [3.5 3.6 3.6 3.6 3.6]\n",
            " [3.7 3.7 3.7 3.8 3.8]\n",
            " [3.8 3.8 3.8 3.8 3.9]\n",
            " [3.9 3.9 3.9 4.4 4.4]]\n",
            "\n",
            "Bin Median: \n",
            " [[2.2 2.2 2.2 2.2 2.2]\n",
            " [2.3 2.3 2.3 2.3 2.3]\n",
            " [2.5 2.5 2.5 2.5 2.5]\n",
            " [2.5 2.5 2.5 2.5 2.5]\n",
            " [2.6 2.6 2.6 2.6 2.6]\n",
            " [2.7 2.7 2.7 2.7 2.7]\n",
            " [2.7 2.7 2.7 2.7 2.7]\n",
            " [2.8 2.8 2.8 2.8 2.8]\n",
            " [2.8 2.8 2.8 2.8 2.8]\n",
            " [2.9 2.9 2.9 2.9 2.9]\n",
            " [2.9 2.9 2.9 2.9 2.9]\n",
            " [3.  3.  3.  3.  3. ]\n",
            " [3.  3.  3.  3.  3. ]\n",
            " [3.  3.  3.  3.  3. ]\n",
            " [3.  3.  3.  3.  3. ]\n",
            " [3.  3.  3.  3.  3. ]\n",
            " [3.  3.  3.  3.  3. ]\n",
            " [3.1 3.1 3.1 3.1 3.1]\n",
            " [3.1 3.1 3.1 3.1 3.1]\n",
            " [3.2 3.2 3.2 3.2 3.2]\n",
            " [3.2 3.2 3.2 3.2 3.2]\n",
            " [3.3 3.3 3.3 3.3 3.3]\n",
            " [3.3 3.3 3.3 3.3 3.3]\n",
            " [3.4 3.4 3.4 3.4 3.4]\n",
            " [3.4 3.4 3.4 3.4 3.4]\n",
            " [3.5 3.5 3.5 3.5 3.5]\n",
            " [3.6 3.6 3.6 3.6 3.6]\n",
            " [3.7 3.7 3.7 3.7 3.7]\n",
            " [3.8 3.8 3.8 3.8 3.8]\n",
            " [4.1 4.1 4.1 4.1 4.1]]\n"
          ]
        },
        {
          "output_type": "display_data",
          "data": {
            "text/plain": [
              "<Figure size 640x480 with 1 Axes>"
            ],
            "image/png": "[encoded data removed]"
          },
          "metadata": {}
        }
      ]
    },
    {
      "cell_type": "markdown",
      "source": [
        "#Apriori Algorithm"
      ],
      "metadata": {
        "id": "SZ0D-Eo5eklp"
      }
    },
    {
      "cell_type": "code",
      "source": [
        "data = [\n",
        "        ['1',['b','j','p']],\n",
        "        ['2',['b','p']],\n",
        "        ['3',['b','n','p']],\n",
        "        ['4',['e','b']],\n",
        "        ['5',['e','n']]\n",
        "        ]\n",
        "init = []\n",
        "for i in data:\n",
        "    for q in i[1]:\n",
        "        if(q not in init):\n",
        "            init.append(q)\n",
        "init = sorted(init)\n",
        "print(init)\n",
        "sp = 0.4\n",
        "s = int(sp*len(init))\n",
        "s\n",
        "from collections import Counter\n",
        "c = Counter()\n",
        "for i in init:\n",
        "    for d in data:\n",
        "        if(i in d[1]):\n",
        "            c[i]+=1\n",
        "print(\"C1:\")\n",
        "for i in c:\n",
        "    print(str([i])+\": \"+str(c[i]))\n",
        "print()\n",
        "l = Counter()\n",
        "for i in c:\n",
        "    if(c[i] >= s):\n",
        "        l[frozenset([i])]+=c[i]\n",
        "print(\"L1:\")\n",
        "for i in l:\n",
        "    print(str(list(i))+\": \"+str(l[i]))\n",
        "print()\n",
        "pl = l\n",
        "pos = 1\n",
        "for count in range (2,1000):\n",
        "    nc = set()\n",
        "    temp = list(l)\n",
        "    for i in range(0,len(temp)):\n",
        "        for j in range(i+1,len(temp)):\n",
        "            t = temp[i].union(temp[j])\n",
        "            if(len(t) == count):\n",
        "                nc.add(temp[i].union(temp[j]))\n",
        "    nc = list(nc)\n",
        "    c = Counter()\n",
        "    for i in nc:\n",
        "        c[i] = 0\n",
        "        for q in data:\n",
        "            temp = set(q[1])\n",
        "            if(i.issubset(temp)):\n",
        "                c[i]+=1\n",
        "    print(\"C\"+str(count)+\":\")\n",
        "    for i in c:\n",
        "        print(str(list(i))+\": \"+str(c[i]))\n",
        "    print()\n",
        "    l = Counter()\n",
        "    for i in c:\n",
        "        if(c[i] >= s):\n",
        "            l[i]+=c[i]\n",
        "    print(\"L\"+str(count)+\":\")\n",
        "    for i in l:\n",
        "        print(str(list(i))+\": \"+str(l[i]))\n",
        "    print()\n",
        "    if(len(l) == 0):\n",
        "        break\n",
        "    pl = l\n",
        "    pos = count\n",
        "print(\"Result: \")\n",
        "print(\"L\"+str(pos)+\":\")\n",
        "for i in pl:\n",
        "    print(str(list(i))+\": \"+str(pl[i]))\n",
        "print()\n",
        "from itertools import combinations\n",
        "for l in pl:\n",
        "    c = [frozenset(q) for q in combinations(l,len(l)-1)]\n",
        "    mmax = 0\n",
        "    for a in c:\n",
        "        b = l-a\n",
        "        ab = l\n",
        "        sab = 0\n",
        "        sa = 0\n",
        "        sb = 0\n",
        "        for q in data:\n",
        "            temp = set(q[1])\n",
        "            if(a.issubset(temp)):\n",
        "                sa+=1\n",
        "            if(b.issubset(temp)):\n",
        "                sb+=1\n",
        "            if(ab.issubset(temp)):\n",
        "                sab+=1\n",
        "        temp = sab/sa*100\n",
        "        if(temp > mmax):\n",
        "            mmax = temp\n",
        "        temp = sab/sb*100\n",
        "        if(temp > mmax):\n",
        "            mmax = temp\n",
        "        print(str(list(a))+\" -> \"+str(list(b))+\" = \"+str(sab/sa*100)+\"%\")\n",
        "        print(str(list(b))+\" -> \"+str(list(a))+\" = \"+str(sab/sb*100)+\"%\")\n",
        "    curr = 1\n",
        "    print(\"choosing:\", end=' ')\n",
        "    for a in c:\n",
        "        b = l-a\n",
        "        ab = l\n",
        "        sab = 0\n",
        "        sa = 0\n",
        "        sb = 0\n",
        "        for q in data:\n",
        "            temp = set(q[1])\n",
        "            if(a.issubset(temp)):\n",
        "                sa+=1\n",
        "            if(b.issubset(temp)):\n",
        "                sb+=1\n",
        "            if(ab.issubset(temp)):\n",
        "                sab+=1\n",
        "        temp = sab/sa*100\n",
        "        if(temp == mmax):\n",
        "            print(curr, end = ' ')\n",
        "        curr += 1\n",
        "        temp = sab/sb*100\n",
        "        if(temp == mmax):\n",
        "            print(curr, end = ' ')\n",
        "        curr += 1\n",
        "    print()\n",
        "    print()\n"
      ],
      "metadata": {
        "id": "_8oMiDWKZPNs",
        "colab": {
          "base_uri": "https://localhost:8080/"
        },
        "outputId": "c6f3f526-978f-49c1-d33d-96fcb57312f0"
      },
      "execution_count": null,
      "outputs": [
        {
          "output_type": "stream",
          "name": "stdout",
          "text": [
            "['b', 'e', 'j', 'n', 'p']\n",
            "C1:\n",
            "['b']: 4\n",
            "['e']: 2\n",
            "['j']: 1\n",
            "['n']: 2\n",
            "['p']: 3\n",
            "\n",
            "L1:\n",
            "['b']: 4\n",
            "['e']: 2\n",
            "['n']: 2\n",
            "['p']: 3\n",
            "\n",
            "C2:\n",
            "['b', 'n']: 1\n",
            "['b', 'p']: 3\n",
            "['e', 'p']: 0\n",
            "['n', 'p']: 1\n",
            "['b', 'e']: 1\n",
            "['n', 'e']: 1\n",
            "\n",
            "L2:\n",
            "['b', 'p']: 3\n",
            "\n",
            "C3:\n",
            "\n",
            "L3:\n",
            "\n",
            "Result: \n",
            "L2:\n",
            "['b', 'p']: 3\n",
            "\n",
            "['b'] -> ['p'] = 75.0%\n",
            "['p'] -> ['b'] = 100.0%\n",
            "['p'] -> ['b'] = 100.0%\n",
            "['b'] -> ['p'] = 75.0%\n",
            "choosing: 2 3 \n",
            "\n"
          ]
        }
      ]
    },
    {
      "cell_type": "markdown",
      "source": [
        "#K means Clustering"
      ],
      "metadata": {
        "id": "PE7-bleWj6wY"
      }
    },
    {
      "cell_type": "code",
      "source": [
        "def main():\n",
        "    k0 = [0] * 10\n",
        "    k1 = []\n",
        "    k2 = []\n",
        "    nums = int(input(\"How Many Numbers you want to enter: \"))\n",
        "    for i in range(nums):\n",
        "        k0[i] = int(input(f\"Enter number {i + 1}:\"))\n",
        "\n",
        "    num_clusters = int(input(\"\\nEnter the number of clusters to be created:\"))\n",
        "    print(\"\\nEnter initial mean 1:\")\n",
        "    m1 = int(input())\n",
        "    print(\"\\nEnter initial mean 2:\")\n",
        "    m2 = int(input())\n",
        "\n",
        "    om1, om2 = 0, 0\n",
        "\n",
        "    while True:\n",
        "        om1 = m1\n",
        "        om2 = m2\n",
        "        k1.clear()\n",
        "        k2.clear()\n",
        "        for i1 in range(10):\n",
        "            t1 = abs(k0[i1] - m1)\n",
        "            t2 = abs(k0[i1] - m2)\n",
        "\n",
        "            if t1 < t2:\n",
        "                k1.append(k0[i1])\n",
        "            else:\n",
        "                k2.append(k0[i1])\n",
        "\n",
        "        if len(k1) > 0:\n",
        "            m1 = sum(k1) / len(k1)\n",
        "        if len(k2) > 0:\n",
        "            m2 = sum(k2) / len(k2)\n",
        "\n",
        "        print(\"\\nCluster 1:\", k1)\n",
        "        print(\"Mean 1:\", m1)\n",
        "        print(\"\\nCluster 2:\", k2)\n",
        "        print(\"Mean 2:\", m2)\n",
        "        print(\"\\n----\")\n",
        "\n",
        "        if abs(m1 - om1) < 0.0001 and abs(m2 - om2) < 0.0001:\n",
        "            break\n",
        "\n",
        "    print(\"\\nClusters created\")\n",
        "\n",
        "if __name__ == \"__main__\":\n",
        "    main()\n"
      ],
      "metadata": {
        "colab": {
          "base_uri": "https://localhost:8080/"
        },
        "id": "ii4Spar8kdmg",
        "outputId": "02f03bb2-b2ea-4c9e-a841-2829e6ec4404"
      },
      "execution_count": null,
      "outputs": [
        {
          "output_type": "stream",
          "name": "stdout",
          "text": [
            "How Many Numbers you want to enter: 10\n",
            "Enter number 1:1\n",
            "Enter number 2:10\n",
            "Enter number 3:15\n",
            "Enter number 4:13\n",
            "Enter number 5:22\n",
            "Enter number 6:29\n",
            "Enter number 7:35\n",
            "Enter number 8:8\n",
            "Enter number 9:27\n",
            "Enter number 10:20\n",
            "\n",
            "Enter the number of clusters to be created:2\n",
            "\n",
            "Enter initial mean 1:\n",
            "22\n",
            "\n",
            "Enter initial mean 2:\n",
            "39\n",
            "\n",
            "Cluster 1: [1, 10, 15, 13, 22, 29, 8, 27, 20]\n",
            "Mean 1: 16.11111111111111\n",
            "\n",
            "Cluster 2: [35]\n",
            "Mean 2: 35.0\n",
            "\n",
            "----\n",
            "\n",
            "Cluster 1: [1, 10, 15, 13, 22, 8, 20]\n",
            "Mean 1: 12.714285714285714\n",
            "\n",
            "Cluster 2: [29, 35, 27]\n",
            "Mean 2: 30.333333333333332\n",
            "\n",
            "----\n",
            "\n",
            "Cluster 1: [1, 10, 15, 13, 8, 20]\n",
            "Mean 1: 11.166666666666666\n",
            "\n",
            "Cluster 2: [22, 29, 35, 27]\n",
            "Mean 2: 28.25\n",
            "\n",
            "----\n",
            "\n",
            "Cluster 1: [1, 10, 15, 13, 8]\n",
            "Mean 1: 9.4\n",
            "\n",
            "Cluster 2: [22, 29, 35, 27, 20]\n",
            "Mean 2: 26.6\n",
            "\n",
            "----\n",
            "\n",
            "Cluster 1: [1, 10, 15, 13, 8]\n",
            "Mean 1: 9.4\n",
            "\n",
            "Cluster 2: [22, 29, 35, 27, 20]\n",
            "Mean 2: 26.6\n",
            "\n",
            "----\n",
            "\n",
            "Clusters created\n"
          ]
        }
      ]
    },
    {
      "cell_type": "code",
      "source": [],
      "metadata": {
        "id": "BKEPB8aOnCL_"
      },
      "execution_count": null,
      "outputs": []
    }
  ]
}